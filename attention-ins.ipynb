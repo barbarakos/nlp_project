{
 "cells": [
  {
   "cell_type": "raw",
   "metadata": {
    "_cell_guid": "b1076dfc-b9ad-4769-8c92-a6c4dae69d19",
    "_uuid": "8f2839f25d086af736a60e9eeb907d3b93b6e0e5",
    "execution": {
     "iopub.execute_input": "2024-06-07T08:55:27.531117Z",
     "iopub.status.busy": "2024-06-07T08:55:27.530737Z",
     "iopub.status.idle": "2024-06-07T08:55:28.462040Z",
     "shell.execute_reply": "2024-06-07T08:55:28.461133Z",
     "shell.execute_reply.started": "2024-06-07T08:55:27.531084Z"
    }
   },
   "source": [
    "# This Python 3 environment comes with many helpful analytics libraries installed\n",
    "# It is defined by the kaggle/python Docker image: https://github.com/kaggle/docker-python\n",
    "# For example, here's several helpful packages to load\n",
    "\n",
    "import numpy as np # linear algebra\n",
    "import pandas as pd # data processing, CSV file I/O (e.g. pd.read_csv)\n",
    "\n",
    "# Input data files are available in the read-only \"../input/\" directory\n",
    "# For example, running this (by clicking run or pressing Shift+Enter) will list all files under the input directory\n",
    "\n",
    "import os\n",
    "for dirname, _, filenames in os.walk('/kaggle/input'):\n",
    "    for filename in filenames:\n",
    "        print(os.path.join(dirname, filename))\n",
    "\n",
    "# You can write up to 20GB to the current directory (/kaggle/working/) that gets preserved as output when you create a version using \"Save & Run All\" \n",
    "# You can also write temporary files to /kaggle/temp/, but they won't be saved outside of the current session"
   ]
  },
  {
   "cell_type": "code",
   "execution_count": 1,
   "metadata": {},
   "outputs": [
    {
     "name": "stderr",
     "output_type": "stream",
     "text": [
      "C:\\Users\\Barbara\\anaconda3\\envs\\nlp_env\\lib\\site-packages\\tqdm\\auto.py:21: TqdmWarning: IProgress not found. Please update jupyter and ipywidgets. See https://ipywidgets.readthedocs.io/en/stable/user_install.html\n",
      "  from .autonotebook import tqdm as notebook_tqdm\n"
     ]
    }
   ],
   "source": [
    "from torch.utils.data import Dataset\n",
    "import numpy as np\n",
    "import matplotlib.pyplot as plt\n",
    "import torch\n",
    "from typing import List, Union\n",
    "from transformers import AutoTokenizer, AutoModel\n",
    "\n",
    "class MyDataset(Dataset):\n",
    "    def __init__(self, \n",
    "                ids: List[str], \n",
    "                speakers: List[str], \n",
    "                sexes: List[str], \n",
    "                texts: List[str], \n",
    "                texts_en: List[str], \n",
    "                labels: List[bool],\n",
    "                device: torch.device = torch.device('cpu'),\n",
    "                model_name: str = 'distilbert/distilbert-base-uncased-finetuned-sst-2-english',\n",
    "                max_length: int = 512\n",
    "        ):\n",
    "        assert len(ids) == len(speakers) == len(sexes) == len(texts) == len(texts_en) == len(labels)\n",
    "        self.ids = []\n",
    "        self.speakers = []\n",
    "        self.sexes = []\n",
    "        self.texts = []\n",
    "        self.texts_en = []\n",
    "        self.embeddings = []\n",
    "        self.attention_masks = []\n",
    "        self.labels = []\n",
    "        self.device = device\n",
    "        self.tokenizer = AutoTokenizer.from_pretrained(model_name)\n",
    "        \n",
    "        if self.tokenizer.pad_token is None:\n",
    "            self.tokenizer.pad_token = self.tokenizer.eos_token\n",
    "\n",
    "        for i in range(len(ids)):\n",
    "            text = texts[i]\n",
    "            inputs = self.tokenizer(text, add_special_tokens=True, return_tensors='pt', padding='max_length',max_length=max_length)\n",
    "            if inputs['input_ids'].shape[1] <= max_length:\n",
    "                self.ids.append(ids[i])\n",
    "                self.speakers.append(speakers[i])\n",
    "                self.sexes.append(sexes[i])\n",
    "                self.texts.append(texts[i])\n",
    "                self.texts_en.append(texts_en[i])\n",
    "                self.embeddings.append(inputs['input_ids'][0])\n",
    "                self.attention_masks.append(inputs['attention_mask'])\n",
    "                self.labels.append(torch.tensor((labels[i]), dtype=torch.long))\n",
    "                \n",
    "        print(f'Loaded {len(self.ids)}/{len(ids)} samples.')\n",
    "\n",
    "    def __getitem__(self, index):\n",
    "        return self.ids[index], self.speakers[index], self.sexes[index], self.texts[index], \\\n",
    "                self.texts_en[index], self.embeddings[index][:512].to(self.device), self.attention_masks[index][0][:512].to(self.device), self.labels[index]\n",
    "            \n",
    "    def __len__(self):\n",
    "        return len(self.ids)\n",
    "\n",
    "    def set_device(self, device: torch.device):\n",
    "        '''\n",
    "        Sets the device to the given device.\n",
    "        '''\n",
    "        self.device = device"
   ]
  },
  {
   "cell_type": "code",
   "execution_count": 2,
   "metadata": {},
   "outputs": [
    {
     "name": "stderr",
     "output_type": "stream",
     "text": [
      "C:\\Users\\Barbara\\AppData\\Local\\Temp\\ipykernel_2688\\803231446.py:4: FutureWarning: You are using `torch.load` with `weights_only=False` (the current default value), which uses the default pickle module implicitly. It is possible to construct malicious pickle data which will execute arbitrary code during unpickling (See https://github.com/pytorch/pytorch/blob/main/SECURITY.md#untrusted-models for more details). In a future release, the default value for `weights_only` will be flipped to `True`. This limits the functions that could be executed during unpickling. Arbitrary objects will no longer be allowed to be loaded via this mode unless they are explicitly allowlisted by the user via `torch.serialization.add_safe_globals`. We recommend you start setting `weights_only=True` for any use case where you don't have full control of the loaded file. Please open an issue on GitHub for any issues related to this experimental feature.\n",
      "  dataset_valid = torch.load('D:/fer/9.sem/OPJ/data/torch/orientation/val_dataset_all.pt')\n",
      "C:\\Users\\Barbara\\AppData\\Local\\Temp\\ipykernel_2688\\803231446.py:5: FutureWarning: You are using `torch.load` with `weights_only=False` (the current default value), which uses the default pickle module implicitly. It is possible to construct malicious pickle data which will execute arbitrary code during unpickling (See https://github.com/pytorch/pytorch/blob/main/SECURITY.md#untrusted-models for more details). In a future release, the default value for `weights_only` will be flipped to `True`. This limits the functions that could be executed during unpickling. Arbitrary objects will no longer be allowed to be loaded via this mode unless they are explicitly allowlisted by the user via `torch.serialization.add_safe_globals`. We recommend you start setting `weights_only=True` for any use case where you don't have full control of the loaded file. Please open an issue on GitHub for any issues related to this experimental feature.\n",
      "  dataset_train = torch.load('D:/fer/9.sem/OPJ/data/torch/orientation/train_dataset_all.pt')\n",
      "C:\\Users\\Barbara\\AppData\\Local\\Temp\\ipykernel_2688\\803231446.py:6: FutureWarning: You are using `torch.load` with `weights_only=False` (the current default value), which uses the default pickle module implicitly. It is possible to construct malicious pickle data which will execute arbitrary code during unpickling (See https://github.com/pytorch/pytorch/blob/main/SECURITY.md#untrusted-models for more details). In a future release, the default value for `weights_only` will be flipped to `True`. This limits the functions that could be executed during unpickling. Arbitrary objects will no longer be allowed to be loaded via this mode unless they are explicitly allowlisted by the user via `torch.serialization.add_safe_globals`. We recommend you start setting `weights_only=True` for any use case where you don't have full control of the loaded file. Please open an issue on GitHub for any issues related to this experimental feature.\n",
      "  dataset_test = torch.load('D:/fer/9.sem/OPJ/data/torch/orientation/test_dataset_all.pt')\n"
     ]
    }
   ],
   "source": [
    "import types\n",
    "import sys\n",
    "\n",
    "dataset_valid = torch.load('D:/fer/9.sem/OPJ/data/torch/orientation/val_dataset_all.pt')\n",
    "dataset_train = torch.load('D:/fer/9.sem/OPJ/data/torch/orientation/train_dataset_all.pt')\n",
    "dataset_test = torch.load('D:/fer/9.sem/OPJ/data/torch/orientation/test_dataset_all.pt')"
   ]
  },
  {
   "cell_type": "code",
   "execution_count": 3,
   "metadata": {},
   "outputs": [],
   "source": [
    "from torch.utils.data import Dataset, DataLoader\n",
    "import numpy as np\n",
    "import matplotlib.pyplot as plt\n",
    "import torch\n",
    "from typing import List, Union\n",
    "from transformers import AutoTokenizer, AutoModel, PreTrainedModel\n",
    "from transformers import RobertaTokenizer, RobertaForSequenceClassification\n",
    "import pandas as pd\n",
    "from sklearn.metrics import accuracy_score, confusion_matrix\n",
    "\n",
    "def evaluate(dataset: Dataset, model: PreTrainedModel, device: torch.device = torch.device('cpu'), plot: bool = False):\n",
    "    '''\n",
    "    Evaluates the model on the given dataset.\n",
    "    \n",
    "    Parameters:\n",
    "        dataset: Dataset\n",
    "            The dataset to evaluate on.\n",
    "        model: PreTrainedModel\n",
    "            The model to evaluate.\n",
    "        device: torch.device\n",
    "            The device to use.\n",
    "        plot: bool\n",
    "    '''\n",
    "    model.to(device)\n",
    "    model.eval()\n",
    "    loader = DataLoader(dataset, batch_size=16, shuffle=False)\n",
    "    correct_labels = []\n",
    "    model_predictions = []\n",
    "    probs = []\n",
    "    attentions = []\n",
    "    embeddings = []\n",
    "    texts = []\n",
    "    with torch.no_grad():\n",
    "        for batch in loader:\n",
    "            id_, speaker, sex, text, text_en, embedding, attention_mask, label = batch\n",
    "            texts.extend(text_en)\n",
    "            embedding = embedding.to(device)\n",
    "            attention_mask = attention_mask.to(device).squeeze(1)\n",
    "            label = label.to(device)\n",
    "            model_output = model(input_ids=embedding, attention_mask=attention_mask, output_attentions=True)\n",
    "            embeddings.extend(embedding.cpu())\n",
    "            \n",
    "            # Prosječni attention skorovi za posljednji sloj\n",
    "            attention = torch.mean(model_output.attentions[-1], dim=1).squeeze()[:, 0]\n",
    "            attentions.extend(attention.cpu().numpy())\n",
    "            \n",
    "            logits = model_output.logits\n",
    "            prob = torch.max(torch.softmax(logits, dim=1), dim=1)\n",
    "            probs.extend(prob.values.cpu())\n",
    "            predictions = torch.argmax(logits, dim=1)\n",
    "            correct_labels.extend(label.cpu().numpy())\n",
    "            model_predictions.extend(predictions.cpu().numpy())\n",
    "\n",
    "    accuracy = accuracy_score(correct_labels, model_predictions)\n",
    "    print(f'Accuracy: {accuracy}')\n",
    "    print(f'Confusion matrix:\\n{confusion_matrix(correct_labels, model_predictions)}')\n",
    "    \n",
    "    return correct_labels, model_predictions, probs, attentions, embeddings, texts"
   ]
  },
  {
   "cell_type": "code",
   "execution_count": 4,
   "metadata": {},
   "outputs": [
    {
     "name": "stderr",
     "output_type": "stream",
     "text": [
      "C:\\Users\\Barbara\\AppData\\Local\\Temp\\ipykernel_2688\\1136500972.py:2: FutureWarning: You are using `torch.load` with `weights_only=False` (the current default value), which uses the default pickle module implicitly. It is possible to construct malicious pickle data which will execute arbitrary code during unpickling (See https://github.com/pytorch/pytorch/blob/main/SECURITY.md#untrusted-models for more details). In a future release, the default value for `weights_only` will be flipped to `True`. This limits the functions that could be executed during unpickling. Arbitrary objects will no longer be allowed to be loaded via this mode unless they are explicitly allowlisted by the user via `torch.serialization.add_safe_globals`. We recommend you start setting `weights_only=True` for any use case where you don't have full control of the loaded file. Please open an issue on GitHub for any issues related to this experimental feature.\n",
      "  model = torch.load('D:/fer/9.sem/OPJ/roberta_base_en.pt', map_location=torch.device('cuda:0'))\n"
     ]
    }
   ],
   "source": [
    "tokenizer = RobertaTokenizer.from_pretrained(\"roberta-base\")\n",
    "model = torch.load('D:/fer/9.sem/OPJ/roberta_base_en.pt', map_location=torch.device('cuda:0'))"
   ]
  },
  {
   "cell_type": "code",
   "execution_count": 5,
   "metadata": {},
   "outputs": [
    {
     "name": "stderr",
     "output_type": "stream",
     "text": [
      "RobertaSdpaSelfAttention is used but `torch.nn.functional.scaled_dot_product_attention` does not support non-absolute `position_embedding_type` or `output_attentions=True` or `head_mask`. Falling back to the manual attention implementation, but specifying the manual implementation will be required from Transformers version v5.0.0 onwards. This warning can be removed using the argument `attn_implementation=\"eager\"` when loading the model.\n"
     ]
    },
    {
     "name": "stdout",
     "output_type": "stream",
     "text": [
      "Accuracy: 0.8556500231875097\n",
      "Confusion matrix:\n",
      "[[10621  2636]\n",
      " [ 2033 17055]]\n"
     ]
    }
   ],
   "source": [
    "output = evaluate(dataset_train, model, 'cuda:0')"
   ]
  },
  {
   "cell_type": "code",
   "execution_count": 6,
   "metadata": {},
   "outputs": [],
   "source": [
    "labels, predictions, probs, attentions, embeddings, old_texts = output"
   ]
  },
  {
   "cell_type": "code",
   "execution_count": 7,
   "metadata": {},
   "outputs": [],
   "source": [
    "labels = np.array(labels)\n",
    "predictions = np.array(predictions)\n",
    "probs = np.array(probs)\n",
    "attentions = np.array(attentions)\n",
    "embeddings = np.array(embeddings)"
   ]
  },
  {
   "cell_type": "code",
   "execution_count": 8,
   "metadata": {},
   "outputs": [],
   "source": [
    "# Filtriranje samo točno klasificiranih primjera\n",
    "ind = labels == predictions\n",
    "labels = labels[ind]\n",
    "predictions = predictions[ind]\n",
    "probs = probs[ind]\n",
    "attentions = attentions[ind]\n",
    "embeddings = embeddings[ind]\n",
    "texts = [old_texts[i] for i, cond in enumerate(ind) if cond]"
   ]
  },
  {
   "cell_type": "code",
   "execution_count": 33,
   "metadata": {},
   "outputs": [
    {
     "name": "stdout",
     "output_type": "stream",
     "text": [
      "Most influential words for left predictions:\n",
      "[('', 4660), ('the', 2102), ('minister', 1203), ('president', 1090), ('you', 588), ('government', 562), ('mr', 413), ('of', 340), ('this', 327), ('and', 262), ('state', 261), ('secretary', 225), ('house', 209), ('bill', 181), ('council', 176), ('we', 162), ('it', 148), ('he', 144), ('your', 137), ('right', 137), ('members', 131), ('our', 126), ('chairman', 122), ('to', 120), ('chamber', 116), ('today', 107), ('rapport', 107), ('representative', 104), ('a', 103), ('vice', 103), ('amendment', 102), ('prime', 99), ('party', 94), ('floor', 88), ('gentlemen', 85), ('they', 85), ('my', 79), ('in', 76), ('mad', 76), (')', 70), ('here', 69), ('hon', 68), ('—', 63), ('committee', 63), ('mrs', 61), ('gentleman', 60), ('speaker', 58), ('law', 57), ('she', 55), ('will', 54), ('is', 53), ('parliament', 53), ('(<', 52), ('i', 51), ('his', 51), ('but', 49), ('czech', 49), ('member', 49), ('her', 48), ('dear', 48), ('commission', 47), ('on', 47), ('these', 46), ('there', 46), ('people', 46), ('ministry', 46), ('\"', 45), ('that', 44), ('-', 44), ('netherlands', 43), ('assembly', 43), ('are', 42), ('very', 41), ('friend', 41), ('estonia', 41), ('municipalities', 40), ('progress', 40), ('for', 40), ('from', 39), ('tax', 39), ('christian', 38), ('<', 38), ('country', 37), ('now', 37), ('so', 36), ('croatia', 36), ('noble', 35), ('ladies', 34), ('left', 34), ('climate', 34), ('republic', 33), ('by', 33), ('national', 32), ('presidentam', 32), ('with', 31), ('school', 31), ('norway', 31), ('foreign', 31), ('ministers', 31), ('cabinet', 29)]\n"
     ]
    }
   ],
   "source": [
    "k = min(5000, len(probs))\n",
    "most_left = torch.topk(torch.tensor(probs), k, largest=False).indices.numpy()\n",
    "counter_l = {}\n",
    "for ind in most_left:\n",
    "    most_important = torch.topk(torch.tensor(attentions[ind]), 15).indices.numpy()\n",
    "    words = tokenizer.decode(embeddings[ind][most_important]).lower().split(' ')\n",
    "    for word in words:\n",
    "        if '[SEP]' in word:\n",
    "            word = word.replace('[SEP]', '')\n",
    "        if '....' in word:\n",
    "            word = word.replace('....', '')\n",
    "        if '...' in word:\n",
    "            word = word.replace('...', '')\n",
    "        if '..' in word:\n",
    "            word = word.replace('..', '')\n",
    "        if '.' in word:\n",
    "            word = word.replace('.', '')\n",
    "        if ',' in word:\n",
    "            word = word.replace(',', '')\n",
    "        if '–' in word:\n",
    "            word = word.replace('–', '')\n",
    "        if '?' in word:\n",
    "            word = word.replace('?', '')\n",
    "        if '!' in word:\n",
    "            word = word.replace('!', '')\n",
    "        if '\"\"' in word:\n",
    "            word = word.replace('\"\"', '')\n",
    "        if '</s>' in word:\n",
    "            word = word.replace('</s>', '')\n",
    "        if '<s>' in word:\n",
    "            word = word.replace('<s>', '')\n",
    "        if word not in counter_l:\n",
    "            counter_l[word] = 1\n",
    "        else:\n",
    "            counter_l[word] += 1\n",
    "\n",
    "most_popular_left = sorted(counter_l.items(), key=lambda x: -x[1])\n",
    "print(\"Most influential words for left predictions:\")\n",
    "print(most_popular_left[:100])"
   ]
  },
  {
   "cell_type": "code",
   "execution_count": 34,
   "metadata": {},
   "outputs": [
    {
     "name": "stdout",
     "output_type": "stream",
     "text": [
      "Most influential words for right predictions:\n",
      "[('the', 6712), ('', 4667), ('our', 2439), ('my', 2405), ('we', 2298), ('government', 1809), ('friend', 1798), ('hon', 1743), ('minister', 1235), ('right', 884), ('of', 819), ('noble', 710), ('this', 683), ('i', 596), ('he', 592), ('are', 535), ('to', 515), ('will', 499), ('secretary', 492), ('is', 447), ('uk', 363), ('state', 359), ('prime', 350), ('his', 344), ('a', 282), ('president', 276), ('she', 266), ('that', 266), ('you', 264), ('her', 264), ('have', 251), ('lady', 247), ('house', 247), ('lords', 246), ('they', 231), ('nation', 218), ('chancellor', 218), ('and', 216), ('department', 208), ('it', 198), ('in', 195), ('high', 193), ('country', 183), ('part', 180), ('bill', 170), ('assembly', 166), ('lord', 165), ('with', 157), ('has', 152), ('turkey', 152), ('their', 137), ('by', 134), ('for', 133), ('there', 132), ('does', 129), ('salute', 128), ('your', 127), ('general', 126), ('thank', 125), ('marshal', 123), ('kingdom', 98), ('mr', 95), ('iz', 94), ('ak', 90), ('home', 88), ('brexit', 85), ('£', 84), ('majesty', 76), ('the�', 74), ('gentleman', 73), ('united', 72), ('ministers', 72), ('izbo', 70), ('ministry', 69), ('speaker', 69), ('ec', 67), ('him', 67), ('turkish', 66), ('british', 66), ('tory', 65), ('on', 64), ('be', 63), ('us', 63), ('welcome', 61), ('beloved', 60), ('baron', 58), ('as', 58), ('pand', 57), ('these', 53), ('been', 53), ('budget', 51), ('its', 50), ('an', 50), ('what', 48), ('support', 47), ('wales', 46), ('leader', 46), ('can', 45), ('office', 45), ('all', 45)]\n"
     ]
    }
   ],
   "source": [
    "most_right = torch.topk(torch.tensor(probs), k, largest=True).indices.numpy()\n",
    "counter_r = {}\n",
    "for ind in most_right:\n",
    "    most_important = torch.topk(torch.tensor(attentions[ind]), 15).indices.numpy()\n",
    "    words = tokenizer.decode(embeddings[ind][most_important]).lower().split(' ')\n",
    "    for word in words:\n",
    "        if '[SEP]' in word:\n",
    "            word = word.replace('[SEP]', '')\n",
    "        if '....' in word:\n",
    "            word = word.replace('....', '')\n",
    "        if '...' in word:\n",
    "            word = word.replace('...', '')\n",
    "        if '..' in word:\n",
    "            word = word.replace('..', '')\n",
    "        if '.' in word:\n",
    "            word = word.replace('.', '')\n",
    "        if ',' in word:\n",
    "            word = word.replace(',', '')\n",
    "        if '–' in word:\n",
    "            word = word.replace('–', '')\n",
    "        if '?' in word:\n",
    "            word = word.replace('?', '')\n",
    "        if '!' in word:\n",
    "            word = word.replace('!', '')\n",
    "        if '\"\"' in word:\n",
    "            word = word.replace('\"\"', '')\n",
    "        if '</s>' in word:\n",
    "            word = word.replace('</s>', '')\n",
    "        if '<s>' in word:\n",
    "            word = word.replace('<s>', '')\n",
    "        if word not in counter_r:\n",
    "            counter_r[word] = 1\n",
    "        else:\n",
    "            counter_r[word] += 1\n",
    "\n",
    "most_popular_right = sorted(counter_r.items(), key=lambda x: -x[1])\n",
    "print(\"Most influential words for right predictions:\")\n",
    "print(most_popular_right[:100])"
   ]
  },
  {
   "cell_type": "code",
   "execution_count": 18,
   "metadata": {},
   "outputs": [
    {
     "name": "stdout",
     "output_type": "stream",
     "text": [
      "5\n",
      "25\n"
     ]
    }
   ],
   "source": [
    "w = 'treasury'\n",
    "print(counter_l[w])\n",
    "print(counter_r[w])"
   ]
  },
  {
   "cell_type": "code",
   "execution_count": 19,
   "metadata": {},
   "outputs": [
    {
     "name": "stdout",
     "output_type": "stream",
     "text": [
      "32\n",
      "2\n"
     ]
    }
   ],
   "source": [
    "w = 'climate'\n",
    "print(counter_l[w])\n",
    "print(counter_r[w])"
   ]
  },
  {
   "cell_type": "code",
   "execution_count": 35,
   "metadata": {},
   "outputs": [
    {
     "name": "stdout",
     "output_type": "stream",
     "text": [
      "102\n",
      "7\n"
     ]
    }
   ],
   "source": [
    "w = 'amendment'\n",
    "print(counter_l[w])\n",
    "print(counter_r[w])"
   ]
  },
  {
   "cell_type": "code",
   "execution_count": 37,
   "metadata": {},
   "outputs": [
    {
     "name": "stdout",
     "output_type": "stream",
     "text": [
      "8\n",
      "218\n"
     ]
    }
   ],
   "source": [
    "w = 'nation'\n",
    "print(counter_l[w])\n",
    "print(counter_r[w])"
   ]
  },
  {
   "cell_type": "code",
   "execution_count": 38,
   "metadata": {},
   "outputs": [
    {
     "name": "stdout",
     "output_type": "stream",
     "text": [
      "31\n",
      "4\n"
     ]
    }
   ],
   "source": [
    "w = 'school'\n",
    "print(counter_l[w])\n",
    "print(counter_r[w])"
   ]
  },
  {
   "cell_type": "code",
   "execution_count": 41,
   "metadata": {},
   "outputs": [
    {
     "name": "stdout",
     "output_type": "stream",
     "text": [
      "3\n",
      "47\n"
     ]
    }
   ],
   "source": [
    "w = 'support'\n",
    "print(counter_l[w])\n",
    "print(counter_r[w])"
   ]
  }
 ],
 "metadata": {
  "kaggle": {
   "accelerator": "gpu",
   "dataSources": [
    {
     "datasetId": 5156236,
     "sourceId": 8615111,
     "sourceType": "datasetVersion"
    },
    {
     "datasetId": 5168131,
     "sourceId": 8631273,
     "sourceType": "datasetVersion"
    },
    {
     "isSourceIdPinned": true,
     "modelInstanceId": 51796,
     "sourceId": 62004,
     "sourceType": "modelInstanceVersion"
    },
    {
     "isSourceIdPinned": true,
     "modelInstanceId": 52133,
     "sourceId": 62424,
     "sourceType": "modelInstanceVersion"
    }
   ],
   "dockerImageVersionId": 30733,
   "isGpuEnabled": true,
   "isInternetEnabled": true,
   "language": "python",
   "sourceType": "notebook"
  },
  "kernelspec": {
   "display_name": "Python 3 (ipykernel)",
   "language": "python",
   "name": "python3"
  },
  "language_info": {
   "codemirror_mode": {
    "name": "ipython",
    "version": 3
   },
   "file_extension": ".py",
   "mimetype": "text/x-python",
   "name": "python",
   "nbconvert_exporter": "python",
   "pygments_lexer": "ipython3",
   "version": "3.9.21"
  }
 },
 "nbformat": 4,
 "nbformat_minor": 4
}
